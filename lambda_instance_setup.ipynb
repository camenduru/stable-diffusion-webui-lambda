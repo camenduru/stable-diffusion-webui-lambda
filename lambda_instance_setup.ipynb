{
 "cells": [
  {
   "cell_type": "code",
   "execution_count": null,
   "id": "3906d06d-0e16-43b1-9a0d-bf31f6af6b97",
   "metadata": {},
   "outputs": [],
   "source": [
    "!sudo apt -y update -qq\n",
    "!sudo apt -y install -qq aria2 libcairo2-dev pkg-config python3-dev git-lfs\n",
    "\n",
    "!git lfs install\n",
    "\n",
    "!pip install -q torch==2.0.0+cu118 torchvision==0.15.1+cu118 torchaudio==2.0.1+cu118 torchtext==0.15.1 torchdata==0.6.0 --extra-index-url https://download.pytorch.org/whl/cu118 -U\n",
    "!pip install -q xformers==0.0.19 triton==2.0.0 -U"
   ]
  },
  {
   "cell_type": "code",
   "execution_count": null,
   "id": "ec301c8b-9331-43e1-bc11-7c8594ec9d8d",
   "metadata": {},
   "outputs": [],
   "source": [
    "!git clone -b v2.2 https://github.com/camenduru/stable-diffusion-webui /home/ubuntu/sd/stable-diffusion-webui"
   ]
  },
  {
   "cell_type": "code",
   "execution_count": null,
   "id": "60d38f68-cb59-4bb0-8633-d623f234c75d",
   "metadata": {},
   "outputs": [],
   "source": [
    "%cd /home/ubuntu/sd/stable-diffusion-webui\n",
    "\n",
    "!git clone https://huggingface.co/embed/negative /home/ubuntu/sd/stable-diffusion-webui/embeddings/negative\n",
    "!git clone https://huggingface.co/embed/lora /home/ubuntu/sd/stable-diffusion-webui/models/Lora/positive\n",
    "!aria2c --console-log-level=error -c -x 16 -s 16 -k 1M https://huggingface.co/embed/upscale/resolve/main/4x-UltraSharp.pth -d /home/ubuntu/sd/stable-diffusion-webui/models/ESRGAN -o 4x-UltraSharp.pth\n",
    "!wget https://raw.githubusercontent.com/camenduru/stable-diffusion-webui-scripts/main/run_n_times.py -O /home/ubuntu/sd/stable-diffusion-webui/scripts/run_n_times.py\n",
    "!git clone https://github.com/deforum-art/deforum-for-automatic1111-webui /home/ubuntu/sd/stable-diffusion-webui/extensions/deforum-for-automatic1111-webui\n",
    "!git clone https://github.com/AlUlkesh/stable-diffusion-webui-images-browser /home/ubuntu/sd/stable-diffusion-webui/extensions/stable-diffusion-webui-images-browser\n",
    "!git clone https://github.com/camenduru/stable-diffusion-webui-huggingface /home/ubuntu/sd/stable-diffusion-webui/extensions/stable-diffusion-webui-huggingface\n",
    "!git clone https://github.com/camenduru/sd-civitai-browser /home/ubuntu/sd/stable-diffusion-webui/extensions/sd-civitai-browser\n",
    "!git clone https://github.com/kohya-ss/sd-webui-additional-networks /home/ubuntu/sd/stable-diffusion-webui/extensions/sd-webui-additional-networks\n",
    "!git clone https://github.com/Mikubill/sd-webui-controlnet /home/ubuntu/sd/stable-diffusion-webui/extensions/sd-webui-controlnet\n",
    "!git clone https://github.com/fkunn1326/openpose-editor /home/ubuntu/sd/stable-diffusion-webui/extensions/openpose-editor\n",
    "!git clone https://github.com/jexom/sd-webui-depth-lib /home/ubuntu/sd/stable-diffusion-webui/extensions/sd-webui-depth-lib\n",
    "!git clone https://github.com/hnmr293/posex /home/ubuntu/sd/stable-diffusion-webui/extensions/posex\n",
    "# !git clone https://github.com/nonnonstop/sd-webui-3d-open-pose-editor /home/ubuntu/sd/stable-diffusion-webui/extensions/sd-webui-3d-open-pose-editor\n",
    "!git clone https://github.com/camenduru/sd-webui-tunnels /home/ubuntu/sd/stable-diffusion-webui/extensions/sd-webui-tunnels\n",
    "!git clone https://github.com/etherealxx/batchlinks-webui /home/ubuntu/sd/stable-diffusion-webui/extensions/batchlinks-webui\n",
    "!git clone https://github.com/catppuccin/stable-diffusion-webui /home/ubuntu/sd/stable-diffusion-webui/extensions/stable-diffusion-webui-catppuccin\n",
    "!git clone https://github.com/camenduru/a1111-sd-webui-locon /home/ubuntu/sd/stable-diffusion-webui/extensions/a1111-sd-webui-locon\n",
    "!git clone https://github.com/AUTOMATIC1111/stable-diffusion-webui-rembg /home/ubuntu/sd/stable-diffusion-webui/extensions/stable-diffusion-webui-rembg\n",
    "!git clone https://github.com/ashen-sensored/stable-diffusion-webui-two-shot /home/ubuntu/sd/stable-diffusion-webui/extensions/stable-diffusion-webui-two-shot\n",
    "!git clone https://github.com/camenduru/sd_webui_stealth_pnginfo /home/ubuntu/sd/stable-diffusion-webui/extensions/sd_webui_stealth_pnginfo\n",
    "# !git clone -b dev https://github.com/camenduru/sd-webui-aspect-ratio-helper /home/ubuntu/sd/stable-diffusion-webui/extensions/sd-webui-aspect-ratio-helper"
   ]
  },
  {
   "cell_type": "code",
   "execution_count": null,
   "id": "bf82344a",
   "metadata": {},
   "outputs": [],
   "source": [
    "!mkdir /home/ubuntu/sd/stable-diffusion-webui/extensions/SadTalker\n",
    "git clone -b dev https://github.com/camenduru/SadTalker /home/ubuntu/sd/stable-diffusion-webui/extensions/SadTalker\n",
    "!git -C /home/ubuntu/sd/stable-diffusion-webui/extensions/SadTalker/checkpoints clone https://huggingface.co/camenduru/SadTalker"
   ]
  },
  {
   "cell_type": "code",
   "execution_count": 1,
   "id": "acb59757-5b2f-470c-a586-cde5961eb81a",
   "metadata": {},
   "outputs": [
    {
     "name": "stdout",
     "output_type": "stream",
     "text": [
      "\u001b[35m[\u001b[0m#9842df 1.9GiB/1.9GiB\u001b[36m(96%)\u001b[0m CN:16 DL:\u001b[32m75MiB\u001b[0m\u001b[35m]\u001b[0m\u001b[0m0m\u001b[35m]\u001b[0m\u001b[0mm\n",
      "Download Results:\n",
      "gid   |stat|avg speed  |path/URI\n",
      "======+====+===========+=======================================================\n",
      "9842df|\u001b[1;32mOK\u001b[0m  |    71MiB/s|/home/ubuntu/sd/stable-diffusion-webui/models/Stable-diffusion/darkSushi25D25D_v20.safetensors\n",
      "\n",
      "Status Legend:\n",
      "(OK):download completed.\n",
      "\u001b[35m[\u001b[0m#4b3d4f 314MiB/319MiB\u001b[36m(98%)\u001b[0m CN:10 DL:\u001b[32m77MiB\u001b[0m\u001b[35m]\u001b[0m\u001b[0m0m\u001b[35m]\u001b[0m\u001b[0m\n",
      "Download Results:\n",
      "gid   |stat|avg speed  |path/URI\n",
      "======+====+===========+=======================================================\n",
      "4b3d4f|\u001b[1;32mOK\u001b[0m  |    71MiB/s|/home/ubuntu/sd/stable-diffusion-webui/models/Stable-diffusion/darkSushi25D25D_v20.vae.pt\n",
      "\n",
      "Status Legend:\n",
      "(OK):download completed.\n"
     ]
    }
   ],
   "source": [
    "!aria2c --console-log-level=error -c -x 16 -s 16 -k 1M https://huggingface.co/ckpt/ControlNet-v1-1/resolve/main/control_v11e_sd15_ip2p_fp16.safetensors -d /home/ubuntu/sd/stable-diffusion-webui/extensions/sd-webui-controlnet/models -o control_v11e_sd15_ip2p_fp16.safetensors\n",
    "!aria2c --console-log-level=error -c -x 16 -s 16 -k 1M https://huggingface.co/ckpt/ControlNet-v1-1/resolve/main/control_v11e_sd15_shuffle_fp16.safetensors -d /home/ubuntu/sd/stable-diffusion-webui/extensions/sd-webui-controlnet/models -o control_v11e_sd15_shuffle_fp16.safetensors\n",
    "!aria2c --console-log-level=error -c -x 16 -s 16 -k 1M https://huggingface.co/ckpt/ControlNet-v1-1/resolve/main/control_v11p_sd15_canny_fp16.safetensors -d /home/ubuntu/sd/stable-diffusion-webui/extensions/sd-webui-controlnet/models -o control_v11p_sd15_canny_fp16.safetensors\n",
    "!aria2c --console-log-level=error -c -x 16 -s 16 -k 1M https://huggingface.co/ckpt/ControlNet-v1-1/resolve/main/control_v11f1p_sd15_depth_fp16.safetensors -d /home/ubuntu/sd/stable-diffusion-webui/extensions/sd-webui-controlnet/models -o control_v11f1p_sd15_depth_fp16.safetensors\n",
    "!aria2c --console-log-level=error -c -x 16 -s 16 -k 1M https://huggingface.co/ckpt/ControlNet-v1-1/resolve/main/control_v11p_sd15_inpaint_fp16.safetensors -d /home/ubuntu/sd/stable-diffusion-webui/extensions/sd-webui-controlnet/models -o control_v11p_sd15_inpaint_fp16.safetensors\n",
    "!aria2c --console-log-level=error -c -x 16 -s 16 -k 1M https://huggingface.co/ckpt/ControlNet-v1-1/resolve/main/control_v11p_sd15_lineart_fp16.safetensors -d /home/ubuntu/sd/stable-diffusion-webui/extensions/sd-webui-controlnet/models -o control_v11p_sd15_lineart_fp16.safetensors\n",
    "!aria2c --console-log-level=error -c -x 16 -s 16 -k 1M https://huggingface.co/ckpt/ControlNet-v1-1/resolve/main/control_v11p_sd15_mlsd_fp16.safetensors -d /home/ubuntu/sd/stable-diffusion-webui/extensions/sd-webui-controlnet/models -o control_v11p_sd15_mlsd_fp16.safetensors\n",
    "!aria2c --console-log-level=error -c -x 16 -s 16 -k 1M https://huggingface.co/ckpt/ControlNet-v1-1/resolve/main/control_v11p_sd15_normalbae_fp16.safetensors -d /home/ubuntu/sd/stable-diffusion-webui/extensions/sd-webui-controlnet/models -o control_v11p_sd15_normalbae_fp16.safetensors\n",
    "!aria2c --console-log-level=error -c -x 16 -s 16 -k 1M https://huggingface.co/ckpt/ControlNet-v1-1/resolve/main/control_v11p_sd15_openpose_fp16.safetensors -d /home/ubuntu/sd/stable-diffusion-webui/extensions/sd-webui-controlnet/models -o control_v11p_sd15_openpose_fp16.safetensors\n",
    "!aria2c --console-log-level=error -c -x 16 -s 16 -k 1M https://huggingface.co/ckpt/ControlNet-v1-1/resolve/main/control_v11p_sd15_scribble_fp16.safetensors -d /home/ubuntu/sd/stable-diffusion-webui/extensions/sd-webui-controlnet/models -o control_v11p_sd15_scribble_fp16.safetensors\n",
    "!aria2c --console-log-level=error -c -x 16 -s 16 -k 1M https://huggingface.co/ckpt/ControlNet-v1-1/resolve/main/control_v11p_sd15_seg_fp16.safetensors -d /home/ubuntu/sd/stable-diffusion-webui/extensions/sd-webui-controlnet/models -o control_v11p_sd15_seg_fp16.safetensors\n",
    "!aria2c --console-log-level=error -c -x 16 -s 16 -k 1M https://huggingface.co/ckpt/ControlNet-v1-1/resolve/main/control_v11p_sd15_softedge_fp16.safetensors -d /home/ubuntu/sd/stable-diffusion-webui/extensions/sd-webui-controlnet/models -o control_v11p_sd15_softedge_fp16.safetensors\n",
    "!aria2c --console-log-level=error -c -x 16 -s 16 -k 1M https://huggingface.co/ckpt/ControlNet-v1-1/resolve/main/control_v11p_sd15s2_lineart_anime_fp16.safetensors -d /home/ubuntu/sd/stable-diffusion-webui/extensions/sd-webui-controlnet/models -o control_v11p_sd15s2_lineart_anime_fp16.safetensors\n",
    "!aria2c --console-log-level=error -c -x 16 -s 16 -k 1M https://huggingface.co/ckpt/ControlNet-v1-1/resolve/main/control_v11f1e_sd15_tile_fp16.safetensors -d /home/ubuntu/sd/stable-diffusion-webui/extensions/sd-webui-controlnet/models -o control_v11f1e_sd15_tile_fp16.safetensors\n",
    "!aria2c --console-log-level=error -c -x 16 -s 16 -k 1M https://huggingface.co/ckpt/ControlNet-v1-1/raw/main/control_v11e_sd15_ip2p_fp16.yaml -d /home/ubuntu/sd/stable-diffusion-webui/extensions/sd-webui-controlnet/models -o control_v11e_sd15_ip2p_fp16.yaml\n",
    "!aria2c --console-log-level=error -c -x 16 -s 16 -k 1M https://huggingface.co/ckpt/ControlNet-v1-1/raw/main/control_v11e_sd15_shuffle_fp16.yaml -d /home/ubuntu/sd/stable-diffusion-webui/extensions/sd-webui-controlnet/models -o control_v11e_sd15_shuffle_fp16.yaml\n",
    "!aria2c --console-log-level=error -c -x 16 -s 16 -k 1M https://huggingface.co/ckpt/ControlNet-v1-1/raw/main/control_v11p_sd15_canny_fp16.yaml -d /home/ubuntu/sd/stable-diffusion-webui/extensions/sd-webui-controlnet/models -o control_v11p_sd15_canny_fp16.yaml\n",
    "!aria2c --console-log-level=error -c -x 16 -s 16 -k 1M https://huggingface.co/ckpt/ControlNet-v1-1/raw/main/control_v11f1p_sd15_depth_fp16.yaml -d /home/ubuntu/sd/stable-diffusion-webui/extensions/sd-webui-controlnet/models -o control_v11f1p_sd15_depth_fp16.yaml\n",
    "!aria2c --console-log-level=error -c -x 16 -s 16 -k 1M https://huggingface.co/ckpt/ControlNet-v1-1/raw/main/control_v11p_sd15_inpaint_fp16.yaml -d /home/ubuntu/sd/stable-diffusion-webui/extensions/sd-webui-controlnet/models -o control_v11p_sd15_inpaint_fp16.yaml\n",
    "!aria2c --console-log-level=error -c -x 16 -s 16 -k 1M https://huggingface.co/ckpt/ControlNet-v1-1/raw/main/control_v11p_sd15_lineart_fp16.yaml -d /home/ubuntu/sd/stable-diffusion-webui/extensions/sd-webui-controlnet/models -o control_v11p_sd15_lineart_fp16.yaml\n",
    "!aria2c --console-log-level=error -c -x 16 -s 16 -k 1M https://huggingface.co/ckpt/ControlNet-v1-1/raw/main/control_v11p_sd15_mlsd_fp16.yaml -d /home/ubuntu/sd/stable-diffusion-webui/extensions/sd-webui-controlnet/models -o control_v11p_sd15_mlsd_fp16.yaml\n",
    "!aria2c --console-log-level=error -c -x 16 -s 16 -k 1M https://huggingface.co/ckpt/ControlNet-v1-1/raw/main/control_v11p_sd15_normalbae_fp16.yaml -d /home/ubuntu/sd/stable-diffusion-webui/extensions/sd-webui-controlnet/models -o control_v11p_sd15_normalbae_fp16.yaml\n",
    "!aria2c --console-log-level=error -c -x 16 -s 16 -k 1M https://huggingface.co/ckpt/ControlNet-v1-1/raw/main/control_v11p_sd15_openpose_fp16.yaml -d /home/ubuntu/sd/stable-diffusion-webui/extensions/sd-webui-controlnet/models -o control_v11p_sd15_openpose_fp16.yaml\n",
    "!aria2c --console-log-level=error -c -x 16 -s 16 -k 1M https://huggingface.co/ckpt/ControlNet-v1-1/raw/main/control_v11p_sd15_scribble_fp16.yaml -d /home/ubuntu/sd/stable-diffusion-webui/extensions/sd-webui-controlnet/models -o control_v11p_sd15_scribble_fp16.yaml\n",
    "!aria2c --console-log-level=error -c -x 16 -s 16 -k 1M https://huggingface.co/ckpt/ControlNet-v1-1/raw/main/control_v11p_sd15_seg_fp16.yaml -d /home/ubuntu/sd/stable-diffusion-webui/extensions/sd-webui-controlnet/models -o control_v11p_sd15_seg_fp16.yaml\n",
    "!aria2c --console-log-level=error -c -x 16 -s 16 -k 1M https://huggingface.co/ckpt/ControlNet-v1-1/raw/main/control_v11p_sd15_softedge_fp16.yaml -d /home/ubuntu/sd/stable-diffusion-webui/extensions/sd-webui-controlnet/models -o control_v11p_sd15_softedge_fp16.yaml\n",
    "!aria2c --console-log-level=error -c -x 16 -s 16 -k 1M https://huggingface.co/ckpt/ControlNet-v1-1/raw/main/control_v11p_sd15s2_lineart_anime_fp16.yaml -d /home/ubuntu/sd/stable-diffusion-webui/extensions/sd-webui-controlnet/models -o control_v11p_sd15s2_lineart_anime_fp16.yaml\n",
    "!aria2c --console-log-level=error -c -x 16 -s 16 -k 1M https://huggingface.co/ckpt/ControlNet-v1-1/raw/main/control_v11f1e_sd15_tile_fp16.yaml -d /home/ubuntu/sd/stable-diffusion-webui/extensions/sd-webui-controlnet/models -o control_v11f1e_sd15_tile_fp16.yaml\n",
    "!aria2c --console-log-level=error -c -x 16 -s 16 -k 1M https://huggingface.co/ckpt/ControlNet-v1-1/resolve/main/t2iadapter_style_sd14v1.pth -d /home/ubuntu/sd/stable-diffusion-webui/extensions/sd-webui-controlnet/models -o t2iadapter_style_sd14v1.pth\n",
    "!aria2c --console-log-level=error -c -x 16 -s 16 -k 1M https://huggingface.co/ckpt/ControlNet-v1-1/resolve/main/t2iadapter_sketch_sd14v1.pth -d /home/ubuntu/sd/stable-diffusion-webui/extensions/sd-webui-controlnet/models -o t2iadapter_sketch_sd14v1.pth\n",
    "!aria2c --console-log-level=error -c -x 16 -s 16 -k 1M https://huggingface.co/ckpt/ControlNet-v1-1/resolve/main/t2iadapter_seg_sd14v1.pth -d /home/ubuntu/sd/stable-diffusion-webui/extensions/sd-webui-controlnet/models -o t2iadapter_seg_sd14v1.pth\n",
    "!aria2c --console-log-level=error -c -x 16 -s 16 -k 1M https://huggingface.co/ckpt/ControlNet-v1-1/resolve/main/t2iadapter_openpose_sd14v1.pth -d /home/ubuntu/sd/stable-diffusion-webui/extensions/sd-webui-controlnet/models -o t2iadapter_openpose_sd14v1.pth\n",
    "!aria2c --console-log-level=error -c -x 16 -s 16 -k 1M https://huggingface.co/ckpt/ControlNet-v1-1/resolve/main/t2iadapter_keypose_sd14v1.pth -d /home/ubuntu/sd/stable-diffusion-webui/extensions/sd-webui-controlnet/models -o t2iadapter_keypose_sd14v1.pth\n",
    "!aria2c --console-log-level=error -c -x 16 -s 16 -k 1M https://huggingface.co/ckpt/ControlNet-v1-1/resolve/main/t2iadapter_depth_sd14v1.pth -d /home/ubuntu/sd/stable-diffusion-webui/extensions/sd-webui-controlnet/models -o t2iadapter_depth_sd14v1.pth\n",
    "!aria2c --console-log-level=error -c -x 16 -s 16 -k 1M https://huggingface.co/ckpt/ControlNet-v1-1/resolve/main/t2iadapter_color_sd14v1.pth -d /home/ubuntu/sd/stable-diffusion-webui/extensions/sd-webui-controlnet/models -o t2iadapter_color_sd14v1.pth\n",
    "!aria2c --console-log-level=error -c -x 16 -s 16 -k 1M https://huggingface.co/ckpt/ControlNet-v1-1/resolve/main/t2iadapter_canny_sd14v1.pth -d /home/ubuntu/sd/stable-diffusion-webui/extensions/sd-webui-controlnet/models -o t2iadapter_canny_sd14v1.pth\n",
    "!aria2c --console-log-level=error -c -x 16 -s 16 -k 1M https://huggingface.co/ckpt/ControlNet-v1-1/resolve/main/t2iadapter_canny_sd15v2.pth -d /home/ubuntu/sd/stable-diffusion-webui/extensions/sd-webui-controlnet/models -o t2iadapter_canny_sd15v2.pth\n",
    "!aria2c --console-log-level=error -c -x 16 -s 16 -k 1M https://huggingface.co/ckpt/ControlNet-v1-1/resolve/main/t2iadapter_depth_sd15v2.pth -d /home/ubuntu/sd/stable-diffusion-webui/extensions/sd-webui-controlnet/models -o t2iadapter_depth_sd15v2.pth\n",
    "!aria2c --console-log-level=error -c -x 16 -s 16 -k 1M https://huggingface.co/ckpt/ControlNet-v1-1/resolve/main/t2iadapter_sketch_sd15v2.pth -d /home/ubuntu/sd/stable-diffusion-webui/extensions/sd-webui-controlnet/models -o t2iadapter_sketch_sd15v2.pth\n",
    "!aria2c --console-log-level=error -c -x 16 -s 16 -k 1M https://huggingface.co/ckpt/ControlNet-v1-1/resolve/main/t2iadapter_zoedepth_sd15v1.pth -d /home/ubuntu/sd/stable-diffusion-webui/extensions/sd-webui-controlnet/models -o t2iadapter_zoedepth_sd15v1.pth"
   ]
  },
  {
   "cell_type": "code",
   "execution_count": null,
   "id": "bfc9741c-b284-4c64-ade5-71b790b87687",
   "metadata": {},
   "outputs": [],
   "source": [
    "!aria2c --console-log-level=error -c -x 16 -s 16 -k 1M --content-disposition-default-utf8 https://civitai.com/api/download/models/78164 -d /home/ubuntu/sd/stable-diffusion-webui/models/Stable-diffusion -o dreamshaper_6BakedVae.safetensors  \n",
    "!aria2c --console-log-level=error -c -x 16 -s 16 -k 1M --content-disposition-default-utf8 https://civitai.com/api/download/models/15236 -d /home/ubuntu/sd/stable-diffusion-webui/models/Stable-diffusion -o deliberate_v2.safetensors  \n",
    "!aria2c --console-log-level=error -c -x 16 -s 16 -k 1M --content-disposition-default-utf8 https://civitai.com/api/download/models/7133 -d /home/ubuntu/sd/stable-diffusion-webui/models/Stable-diffusion -o rpg_V4.safetenors  \n",
    "!aria2c --console-log-level=error -c -x 16 -s 16 -k 1M --content-disposition-default-utf8 https://civitai.com/api/download/models/46846 -d /home/ubuntu/sd/stable-diffusion-webui/models/Stable-diffusion -o ReVAnimated_v122.safetensors  \n",
    "!aria2c --console-log-level=error -c -x 16 -s 16 -k 1M --content-disposition-default-utf8 https://civitai.com/api/download/models/71740 -d /home/ubuntu/sd/stable-diffusion-webui/models/Stable-diffusion -o avalonTruvision_v31.safetensors\n",
    "#!aria2c --console-log-level=error -c -x 16 -s 16 -k 1M --content-disposition-default-utf8 https://civitai.com/api/download/models/76459 -d /home/ubuntu/sd/stable-diffusion-webui/models/Stable-diffusion -o icbinpICantBelieveIts_v7.safetensors\n",
    "\n",
    "#!aria2c --console-log-level=error -c -x 16 -s 16 -k 1M https://huggingface.co/stabilityai/stable-diffusion-2-1/blob/main/v2-1_768-ema-pruned.safetensors -d /home/ubuntu/sd/stable-diffusion-webui/models/Stable-diffusion -o v2-1_768-ema-pruned.safetensors\n",
    "!aria2c --console-log-level=error -c -x 16 -s 16 -k 1M https://huggingface.co/ckpt/dark-sushi-25d/resolve/main/darkSushi25D25D_v20.safetensors -d /home/ubuntu/sd/stable-diffusion-webui/models/Stable-diffusion -o darkSushi25D25D_v20.safetensors\n",
    "!aria2c --console-log-level=error -c -x 16 -s 16 -k 1M https://huggingface.co/ckpt/sd-vae-ft-mse-original/resolve/main/vae-ft-mse-840000-ema-pruned.ckpt -d /home/ubuntu/sd/stable-diffusion-webui/models/Stable-diffusion -o darkSushi25D25D_v20.vae.pt"
   ]
  },
  {
   "cell_type": "code",
   "execution_count": null,
   "id": "1f8d334b-6cc8-4e50-9b12-b62d5be5aa64",
   "metadata": {},
   "outputs": [],
   "source": [
    "!sed -i -e 's/\\\"sd_model_checkpoint\\\"\\,/\\\"sd_model_checkpoint\\,sd_vae\\,CLIP_stop_at_last_layers\\\"\\,/g' /home/ubuntu/sd/stable-diffusion-webui/modules/shared.py"
   ]
  },
  {
   "cell_type": "code",
   "execution_count": null,
   "id": "178d66e0-e8ea-427c-825e-37099b264924",
   "metadata": {},
   "outputs": [],
   "source": [
    "!python /home/ubuntu/sd/stable-diffusion-webui/launch.py --port 8266 --listen --cors-allow-origins=* --xformers --enable-insecure-extension-access --theme dark --gradio-queue --disable-safe-unpickle"
   ]
  },
  {
   "cell_type": "code",
   "execution_count": null,
   "id": "0b982370-15e2-4396-bfac-e47680ed4175",
   "metadata": {},
   "outputs": [],
   "source": [
    "import gradio\n",
    "gradio.close_all()"
   ]
  },
  {
   "cell_type": "code",
   "execution_count": null,
   "id": "90499d47-8d46-4436-8089-e585652adf38",
   "metadata": {},
   "outputs": [],
   "source": [
    "!pfkill\n",
    "!ufw allow 8266\n",
    "!ps aux | less"
   ]
  }
 ],
 "metadata": {
  "kernelspec": {
   "display_name": "Python 3",
   "language": "python",
   "name": "python3"
  },
  "language_info": {
   "codemirror_mode": {
    "name": "ipython",
    "version": 3
   },
   "file_extension": ".py",
   "mimetype": "text/x-python",
   "name": "python",
   "nbconvert_exporter": "python",
   "pygments_lexer": "ipython3",
   "version": "3.8.10"
  }
 },
 "nbformat": 4,
 "nbformat_minor": 5
}
